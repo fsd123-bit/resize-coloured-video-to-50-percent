{
  "nbformat": 4,
  "nbformat_minor": 0,
  "metadata": {
    "colab": {
      "provenance": [],
      "authorship_tag": "ABX9TyPpoeJTXRp1bXbqalupFS7M",
      "include_colab_link": true
    },
    "kernelspec": {
      "name": "python3",
      "display_name": "Python 3"
    },
    "language_info": {
      "name": "python"
    }
  },
  "cells": [
    {
      "cell_type": "markdown",
      "metadata": {
        "id": "view-in-github",
        "colab_type": "text"
      },
      "source": [
        "<a href=\"https://colab.research.google.com/github/ManthanVerma7/TIET-SS-MiniProject-26-ResizeVideoto50Percent/blob/main/ResizeVideoto50Percent.ipynb\" target=\"_parent\"><img src=\"https://colab.research.google.com/assets/colab-badge.svg\" alt=\"Open In Colab\"/></a>"
      ]
    },
    {
      "cell_type": "code",
      "source": [
        "import cv2\n",
        "\n",
        "input_video = 'input_video.mp4'\n",
        "output_video = 'resized_video.avi'\n",
        "\n",
        "cap = cv2.VideoCapture(input_video)\n",
        "fourcc = cv2.VideoWriter_fourcc(*'XVID')\n",
        "fps = int(cap.get(cv2.CAP_PROP_FPS))\n",
        "width = int(cap.get(cv2.CAP_PROP_FRAME_WIDTH) * 0.5)\n",
        "height = int(cap.get(cv2.CAP_PROP_FRAME_HEIGHT) * 0.5)\n",
        "\n",
        "out = cv2.VideoWriter(output_video, fourcc, fps, (int(width), int(height)))\n",
        "\n",
        "while cap.isOpened():\n",
        "    ret, frame = cap.read()\n",
        "    if not ret:\n",
        "        break\n",
        "    resized_frame = cv2.resize(frame, (int(width), int(height)))\n",
        "    out.write(resized_frame)\n",
        "\n",
        "cap.release()\n",
        "out.release()\n",
        "print(\"Video resized to 50%.\")\n"
      ],
      "metadata": {
        "colab": {
          "base_uri": "https://localhost:8080/"
        },
        "id": "kdXbHBt8TCf7",
        "outputId": "095615d9-73b6-4065-9e3a-efc83f64b161"
      },
      "execution_count": 2,
      "outputs": [
        {
          "output_type": "stream",
          "name": "stdout",
          "text": [
            "Video resized to 50%.\n"
          ]
        }
      ]
    }
  ]
}